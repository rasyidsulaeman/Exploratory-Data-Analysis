{
 "cells": [
  {
   "cell_type": "code",
   "execution_count": 17,
   "id": "66c2b521-ed8f-47da-a8cf-6298f98b1ab0",
   "metadata": {},
   "outputs": [],
   "source": [
    "word = \"Hari ini hari yang cerah. Saya ingin bermain di luar.\""
   ]
  },
  {
   "cell_type": "code",
   "execution_count": 45,
   "id": "fb690474-8376-4a6a-95cc-0c13e01c45c5",
   "metadata": {},
   "outputs": [],
   "source": [
    "words = re.findall(r'\\b\\w+\\b', word.lower())"
   ]
  },
  {
   "cell_type": "code",
   "execution_count": 40,
   "id": "361805fe-72a6-4d61-935f-b2ccfe9303eb",
   "metadata": {},
   "outputs": [],
   "source": [
    "import re\n",
    "\n",
    "def count_unique_words(text):\n",
    "    # Menggunakan regular expression untuk memisahkan kata\n",
    "    words = re.findall(r'\\b\\w+\\b', text.lower())\n",
    "    word_count = {}\n",
    "    for word in words:\n",
    "        if word in word_count:\n",
    "            word_count[word] += 1\n",
    "        else:\n",
    "            word_count[word] = 1\n",
    "    return word_count"
   ]
  },
  {
   "cell_type": "code",
   "execution_count": 41,
   "id": "2b687ca5-aa67-4e14-ac3b-2244439ea5fc",
   "metadata": {},
   "outputs": [
    {
     "data": {
      "text/plain": [
       "{'hari': 2,\n",
       " 'ini': 1,\n",
       " 'yang': 1,\n",
       " 'cerah': 1,\n",
       " 'saya': 1,\n",
       " 'ingin': 1,\n",
       " 'bermain': 1,\n",
       " 'di': 1,\n",
       " 'luar': 1}"
      ]
     },
     "execution_count": 41,
     "metadata": {},
     "output_type": "execute_result"
    }
   ],
   "source": [
    "count_unique_words(word)"
   ]
  },
  {
   "cell_type": "code",
   "execution_count": 42,
   "id": "1a71511a-6214-4a3e-afda-c04c090af5e3",
   "metadata": {},
   "outputs": [],
   "source": [
    "next = \"Saya makan, dia makan, kita semua makan.\""
   ]
  },
  {
   "cell_type": "code",
   "execution_count": 43,
   "id": "718ca3ca-06ba-463e-b50e-0d6e09eaafe5",
   "metadata": {},
   "outputs": [
    {
     "data": {
      "text/plain": [
       "{'saya': 1, 'makan': 3, 'dia': 1, 'kita': 1, 'semua': 1}"
      ]
     },
     "execution_count": 43,
     "metadata": {},
     "output_type": "execute_result"
    }
   ],
   "source": [
    "count_unique_words(next)"
   ]
  },
  {
   "cell_type": "code",
   "execution_count": 22,
   "id": "80990022-bb9a-4e57-97d1-d4aff9dfc07e",
   "metadata": {},
   "outputs": [
    {
     "data": {
      "text/plain": [
       "'Saya makan dia makan kita semua makan.'"
      ]
     },
     "execution_count": 22,
     "metadata": {},
     "output_type": "execute_result"
    }
   ],
   "source": [
    "next.replace(',', '')"
   ]
  },
  {
   "cell_type": "code",
   "execution_count": 27,
   "id": "5ab9e870-65c0-44c7-ad5e-4155c915e356",
   "metadata": {},
   "outputs": [],
   "source": [
    "def find_unique_elements(arr):\n",
    "    result = []\n",
    "    for row in arr:\n",
    "        unique_elements = []\n",
    "        counts = {}\n",
    "        for elem in row:\n",
    "            if elem not in counts:\n",
    "                counts[elem] = 1\n",
    "            else:\n",
    "                counts[elem] += 1\n",
    "        for key, value in counts.items():\n",
    "            if value == 1:\n",
    "                unique_elements.append(key)\n",
    "        unique_elements.sort()\n",
    "        result.append(unique_elements)\n",
    "    return result"
   ]
  },
  {
   "cell_type": "code",
   "execution_count": 28,
   "id": "e8d735e5-d2d5-4691-bee0-d80d9fb32fe1",
   "metadata": {},
   "outputs": [],
   "source": [
    "arr = [[1, 2, 3, 2], [4, 5, 6, 6], [7, 8, 9, 9, 8]]"
   ]
  },
  {
   "cell_type": "code",
   "execution_count": 29,
   "id": "1de82682-b06a-46f0-91fb-943a64844efe",
   "metadata": {},
   "outputs": [
    {
     "data": {
      "text/plain": [
       "[[1, 3], [4, 5], [7]]"
      ]
     },
     "execution_count": 29,
     "metadata": {},
     "output_type": "execute_result"
    }
   ],
   "source": [
    "find_unique_elements(arr)"
   ]
  },
  {
   "cell_type": "code",
   "execution_count": 30,
   "id": "29607692-62db-492c-98c1-a18284b808be",
   "metadata": {},
   "outputs": [],
   "source": [
    "arr2 = [[10, 10, 10], [0, 0, 1, 1, 2], [3, 3, 3, 3]]"
   ]
  },
  {
   "cell_type": "code",
   "execution_count": 31,
   "id": "77a214ac-2460-4355-b22b-161386cf5b62",
   "metadata": {},
   "outputs": [
    {
     "data": {
      "text/plain": [
       "[[], [2], []]"
      ]
     },
     "execution_count": 31,
     "metadata": {},
     "output_type": "execute_result"
    }
   ],
   "source": [
    "find_unique_elements(arr2)"
   ]
  },
  {
   "cell_type": "code",
   "execution_count": 32,
   "id": "40328788-90cb-4e7e-a004-2fd576abad7c",
   "metadata": {},
   "outputs": [],
   "source": [
    "word3 = \"Hello world, hello again.\""
   ]
  },
  {
   "cell_type": "code",
   "execution_count": 33,
   "id": "d1fec735-0546-4397-af67-f3e87f132440",
   "metadata": {},
   "outputs": [
    {
     "data": {
      "text/plain": [
       "{'hello': 2, 'world': 1, 'again': 1}"
      ]
     },
     "execution_count": 33,
     "metadata": {},
     "output_type": "execute_result"
    }
   ],
   "source": [
    "count_unique_words(word3)"
   ]
  },
  {
   "cell_type": "code",
   "execution_count": null,
   "id": "e22a83af-0019-46ae-85e7-0c3de9990f4b",
   "metadata": {},
   "outputs": [],
   "source": []
  }
 ],
 "metadata": {
  "kernelspec": {
   "display_name": "Python 3 (ipykernel)",
   "language": "python",
   "name": "python3"
  },
  "language_info": {
   "codemirror_mode": {
    "name": "ipython",
    "version": 3
   },
   "file_extension": ".py",
   "mimetype": "text/x-python",
   "name": "python",
   "nbconvert_exporter": "python",
   "pygments_lexer": "ipython3",
   "version": "3.11.8"
  }
 },
 "nbformat": 4,
 "nbformat_minor": 5
}
