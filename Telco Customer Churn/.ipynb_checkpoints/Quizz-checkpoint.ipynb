{
 "cells": [
  {
   "cell_type": "code",
   "execution_count": 1,
   "id": "eebee683-304f-4eb3-b0b4-4f73099d6e44",
   "metadata": {},
   "outputs": [
    {
     "name": "stderr",
     "output_type": "stream",
     "text": [
      "/var/folders/hm/4gy529yx1ts3knwwpl0wm7bm0000gn/T/ipykernel_1523/4080736814.py:1: DeprecationWarning: \n",
      "Pyarrow will become a required dependency of pandas in the next major release of pandas (pandas 3.0),\n",
      "(to allow more performant data types, such as the Arrow string type, and better interoperability with other libraries)\n",
      "but was not found to be installed on your system.\n",
      "If this would cause problems for you,\n",
      "please provide us feedback at https://github.com/pandas-dev/pandas/issues/54466\n",
      "        \n",
      "  import pandas as pd\n"
     ]
    }
   ],
   "source": [
    "import pandas as pd"
   ]
  },
  {
   "cell_type": "code",
   "execution_count": 2,
   "id": "44528ec3-1f21-40da-9720-4864051858a1",
   "metadata": {},
   "outputs": [],
   "source": [
    "df = pd.read_csv('./dataset/product_unit_solds.csv')"
   ]
  },
  {
   "cell_type": "code",
   "execution_count": 3,
   "id": "d0bf7f8b-4251-478a-8bec-b77a0b35af83",
   "metadata": {},
   "outputs": [
    {
     "data": {
      "text/html": [
       "<div>\n",
       "<style scoped>\n",
       "    .dataframe tbody tr th:only-of-type {\n",
       "        vertical-align: middle;\n",
       "    }\n",
       "\n",
       "    .dataframe tbody tr th {\n",
       "        vertical-align: top;\n",
       "    }\n",
       "\n",
       "    .dataframe thead th {\n",
       "        text-align: right;\n",
       "    }\n",
       "</style>\n",
       "<table border=\"1\" class=\"dataframe\">\n",
       "  <thead>\n",
       "    <tr style=\"text-align: right;\">\n",
       "      <th></th>\n",
       "      <th>product_id</th>\n",
       "      <th>price</th>\n",
       "      <th>units_sold</th>\n",
       "      <th>rating</th>\n",
       "      <th>rating_count</th>\n",
       "      <th>tags</th>\n",
       "      <th>product_color</th>\n",
       "    </tr>\n",
       "  </thead>\n",
       "  <tbody>\n",
       "    <tr>\n",
       "      <th>0</th>\n",
       "      <td>5e9ae51d43d6a96e303acdb0</td>\n",
       "      <td>16.00</td>\n",
       "      <td>100</td>\n",
       "      <td>3.76</td>\n",
       "      <td>54</td>\n",
       "      <td>Summer,Fashion,womenunderwearsuit,printedpajam...</td>\n",
       "      <td>white</td>\n",
       "    </tr>\n",
       "    <tr>\n",
       "      <th>1</th>\n",
       "      <td>58940d436a0d3d5da4e95a38</td>\n",
       "      <td>8.00</td>\n",
       "      <td>20000</td>\n",
       "      <td>3.45</td>\n",
       "      <td>6135</td>\n",
       "      <td>Mini,womens dresses,Summer,Patchwork,fashion d...</td>\n",
       "      <td>green</td>\n",
       "    </tr>\n",
       "    <tr>\n",
       "      <th>2</th>\n",
       "      <td>5ea10e2c617580260d55310a</td>\n",
       "      <td>8.00</td>\n",
       "      <td>100</td>\n",
       "      <td>3.57</td>\n",
       "      <td>14</td>\n",
       "      <td>Summer,cardigan,women beachwear,chiffon,Sexy w...</td>\n",
       "      <td>leopardprint</td>\n",
       "    </tr>\n",
       "    <tr>\n",
       "      <th>3</th>\n",
       "      <td>5cedf17ad1d44c52c59e4aca</td>\n",
       "      <td>8.00</td>\n",
       "      <td>5000</td>\n",
       "      <td>4.03</td>\n",
       "      <td>579</td>\n",
       "      <td>Summer,Shorts,Cotton,Cotton T Shirt,Sleeve,pri...</td>\n",
       "      <td>black</td>\n",
       "    </tr>\n",
       "    <tr>\n",
       "      <th>4</th>\n",
       "      <td>5ebf5819ebac372b070b0e70</td>\n",
       "      <td>2.72</td>\n",
       "      <td>100</td>\n",
       "      <td>3.10</td>\n",
       "      <td>20</td>\n",
       "      <td>Summer,Plus Size,Lace,Casual pants,Bottom,pant...</td>\n",
       "      <td>yellow</td>\n",
       "    </tr>\n",
       "  </tbody>\n",
       "</table>\n",
       "</div>"
      ],
      "text/plain": [
       "                 product_id  price  units_sold  rating  rating_count  \\\n",
       "0  5e9ae51d43d6a96e303acdb0  16.00         100    3.76            54   \n",
       "1  58940d436a0d3d5da4e95a38   8.00       20000    3.45          6135   \n",
       "2  5ea10e2c617580260d55310a   8.00         100    3.57            14   \n",
       "3  5cedf17ad1d44c52c59e4aca   8.00        5000    4.03           579   \n",
       "4  5ebf5819ebac372b070b0e70   2.72         100    3.10            20   \n",
       "\n",
       "                                                tags product_color  \n",
       "0  Summer,Fashion,womenunderwearsuit,printedpajam...         white  \n",
       "1  Mini,womens dresses,Summer,Patchwork,fashion d...         green  \n",
       "2  Summer,cardigan,women beachwear,chiffon,Sexy w...  leopardprint  \n",
       "3  Summer,Shorts,Cotton,Cotton T Shirt,Sleeve,pri...         black  \n",
       "4  Summer,Plus Size,Lace,Casual pants,Bottom,pant...        yellow  "
      ]
     },
     "execution_count": 3,
     "metadata": {},
     "output_type": "execute_result"
    }
   ],
   "source": [
    "df.head()"
   ]
  },
  {
   "cell_type": "code",
   "execution_count": 12,
   "id": "4b8c0f54-cbae-40de-8114-11e9469ecac9",
   "metadata": {},
   "outputs": [
    {
     "data": {
      "text/plain": [
       "product_color\n",
       "black                 20.29\n",
       "white                 15.83\n",
       "pink                   6.46\n",
       "blue                   6.46\n",
       "yellow                 6.15\n",
       "                      ...  \n",
       "army                   0.08\n",
       "black & stripe         0.08\n",
       "Rose red               0.08\n",
       "greysnakeskinprint     0.08\n",
       "gold                   0.08\n",
       "Name: count, Length: 101, dtype: float64"
      ]
     },
     "execution_count": 12,
     "metadata": {},
     "output_type": "execute_result"
    }
   ],
   "source": [
    "round(df['product_color'].value_counts() / df['product_color'].value_counts().sum() * 100,2)"
   ]
  },
  {
   "cell_type": "code",
   "execution_count": null,
   "id": "66c2b521-ed8f-47da-a8cf-6298f98b1ab0",
   "metadata": {},
   "outputs": [],
   "source": []
  }
 ],
 "metadata": {
  "kernelspec": {
   "display_name": "Python 3 (ipykernel)",
   "language": "python",
   "name": "python3"
  },
  "language_info": {
   "codemirror_mode": {
    "name": "ipython",
    "version": 3
   },
   "file_extension": ".py",
   "mimetype": "text/x-python",
   "name": "python",
   "nbconvert_exporter": "python",
   "pygments_lexer": "ipython3",
   "version": "3.11.8"
  }
 },
 "nbformat": 4,
 "nbformat_minor": 5
}
